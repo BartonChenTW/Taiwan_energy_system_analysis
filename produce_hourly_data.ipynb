{
 "cells": [
  {
   "cell_type": "markdown",
   "metadata": {},
   "source": [
    "To extract Taipower data (5-min interval; 3 month duration) to hourly whole duration"
   ]
  },
  {
   "cell_type": "code",
   "execution_count": null,
   "metadata": {},
   "outputs": [],
   "source": [
    "import pandas as pd\n",
    "from functions import *"
   ]
  },
  {
   "cell_type": "code",
   "execution_count": null,
   "metadata": {},
   "outputs": [],
   "source": [
    "## step 1 & 2: conver a json file into csv; convert to 1-hour interval\n",
    "\n",
    "filename = 'TWdata_2020OCT_2022JAN'     # set filename\n",
    "json2csv(filename)"
   ]
  },
  {
   "cell_type": "code",
   "execution_count": null,
   "metadata": {},
   "outputs": [],
   "source": [
    "## step 3: merage new duration data into 'all-duration' data\n",
    "\n",
    "list_file = ['TWdata_2020OCT_2021OCT', 'TWdata_2021NOV_h']\n",
    "merge_csv(list_file)"
   ]
  },
  {
   "cell_type": "code",
   "execution_count": null,
   "metadata": {},
   "outputs": [],
   "source": [
    "## step 4: read csv file (hourly, all-duration)\n",
    "filename = 'TWdata_2020OCT_2022JAN'\n",
    "\n",
    "df = pd.read_csv('Taiwan electricity data\\\\' + filename + '.csv')\n",
    "df"
   ]
  },
  {
   "cell_type": "code",
   "execution_count": null,
   "metadata": {},
   "outputs": [],
   "source": [
    "## step 5: merge column by power plant\n",
    "df_plant = merge_column(df, seperator='#', export_file=True)\n",
    "df_plant"
   ]
  },
  {
   "cell_type": "code",
   "execution_count": null,
   "metadata": {},
   "outputs": [],
   "source": [
    "## step 5: merge column by type of energy source\n",
    "df_type = merge_column(df, seperator='-', export_file=True)\n",
    "df_type"
   ]
  },
  {
   "cell_type": "code",
   "execution_count": null,
   "metadata": {},
   "outputs": [],
   "source": [
    "## step 6: read csv file (hourly, all-duration)\n",
    "filename = 'TWdata_2021'\n",
    "\n",
    "df = pd.read_csv('Taiwan electricity data\\\\' + filename + '.csv')\n",
    "df"
   ]
  },
  {
   "cell_type": "code",
   "execution_count": null,
   "metadata": {},
   "outputs": [],
   "source": [
    "## add sumup\n",
    "\n",
    "columns = list(df.columns)\n",
    "columns.remove('time')\n",
    "\n",
    "df['sum'] = 0\n",
    "\n",
    "for col in columns:\n",
    "    df['sum'] += df[col]\n",
    "\n",
    "df.to_csv('Taiwan electricity data\\\\' + 'filename' + '2.csv', encoding='utf-8-sig', index=False)"
   ]
  },
  {
   "cell_type": "code",
   "execution_count": null,
   "metadata": {},
   "outputs": [],
   "source": [
    "## plot of differnt energy source\n",
    "\n",
    "import plotly.express as px\n",
    "\n",
    "fig = px.area(df, x='time', y=columns)\n",
    "fig.show()"
   ]
  },
  {
   "cell_type": "code",
   "execution_count": null,
   "metadata": {},
   "outputs": [],
   "source": [
    "## plot of electricity demand\n",
    "\n",
    "import plotly.express as px\n",
    "\n",
    "fig = px.line(df, x='time', y='sum')\n",
    "fig.show()"
   ]
  }
 ],
 "metadata": {
  "interpreter": {
   "hash": "5a974ef21f633ee12ab59409c59da6c0880673b51a613d4b613ee5b09096cca1"
  },
  "kernelspec": {
   "display_name": "Python 3.9.7 ('base')",
   "language": "python",
   "name": "python3"
  },
  "language_info": {
   "codemirror_mode": {
    "name": "ipython",
    "version": 3
   },
   "file_extension": ".py",
   "mimetype": "text/x-python",
   "name": "python",
   "nbconvert_exporter": "python",
   "pygments_lexer": "ipython3",
   "version": "3.9.7"
  },
  "orig_nbformat": 4
 },
 "nbformat": 4,
 "nbformat_minor": 2
}
